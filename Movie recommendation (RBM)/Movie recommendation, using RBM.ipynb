{
 "cells": [
  {
   "cell_type": "markdown",
   "metadata": {},
   "source": [
    "<h1 align=\"center\"><font size=\"5\">Рекомендация фильмов, используя RBM</font></h1>"
   ]
  },
  {
   "cell_type": "code",
   "execution_count": 2,
   "metadata": {},
   "outputs": [],
   "source": [
    "#импортируем библиотеки \n",
    "import tensorflow as tf #для работы с нейронными сетями \n",
    "import numpy as np #для работы с массивами \n",
    "import pandas as pd #Чтение, обратотка данных\n",
    "import matplotlib.pyplot as plt #для графиков \n",
    "%matplotlib inline #гарфик в ячейку кода а не отдельно "
   ]
  },
  {
   "cell_type": "code",
   "execution_count": 4,
   "metadata": {
    "scrolled": true
   },
   "outputs": [
    {
     "data": {
      "text/html": [
       "<div>\n",
       "<style scoped>\n",
       "    .dataframe tbody tr th:only-of-type {\n",
       "        vertical-align: middle;\n",
       "    }\n",
       "\n",
       "    .dataframe tbody tr th {\n",
       "        vertical-align: top;\n",
       "    }\n",
       "\n",
       "    .dataframe thead th {\n",
       "        text-align: right;\n",
       "    }\n",
       "</style>\n",
       "<table border=\"1\" class=\"dataframe\">\n",
       "  <thead>\n",
       "    <tr style=\"text-align: right;\">\n",
       "      <th></th>\n",
       "      <th>0</th>\n",
       "      <th>1</th>\n",
       "      <th>2</th>\n",
       "    </tr>\n",
       "  </thead>\n",
       "  <tbody>\n",
       "    <tr>\n",
       "      <td>0</td>\n",
       "      <td>1</td>\n",
       "      <td>Toy Story (1995)</td>\n",
       "      <td>Animation|Children's|Comedy</td>\n",
       "    </tr>\n",
       "    <tr>\n",
       "      <td>1</td>\n",
       "      <td>2</td>\n",
       "      <td>Jumanji (1995)</td>\n",
       "      <td>Adventure|Children's|Fantasy</td>\n",
       "    </tr>\n",
       "    <tr>\n",
       "      <td>2</td>\n",
       "      <td>3</td>\n",
       "      <td>Grumpier Old Men (1995)</td>\n",
       "      <td>Comedy|Romance</td>\n",
       "    </tr>\n",
       "    <tr>\n",
       "      <td>3</td>\n",
       "      <td>4</td>\n",
       "      <td>Waiting to Exhale (1995)</td>\n",
       "      <td>Comedy|Drama</td>\n",
       "    </tr>\n",
       "    <tr>\n",
       "      <td>4</td>\n",
       "      <td>5</td>\n",
       "      <td>Father of the Bride Part II (1995)</td>\n",
       "      <td>Comedy</td>\n",
       "    </tr>\n",
       "  </tbody>\n",
       "</table>\n",
       "</div>"
      ],
      "text/plain": [
       "   0                                   1                             2\n",
       "0  1                    Toy Story (1995)   Animation|Children's|Comedy\n",
       "1  2                      Jumanji (1995)  Adventure|Children's|Fantasy\n",
       "2  3             Grumpier Old Men (1995)                Comedy|Romance\n",
       "3  4            Waiting to Exhale (1995)                  Comedy|Drama\n",
       "4  5  Father of the Bride Part II (1995)                        Comedy"
      ]
     },
     "execution_count": 4,
     "metadata": {},
     "output_type": "execute_result"
    }
   ],
   "source": [
    "#импоритруем наши данные для ФИЛЬМОВ\n",
    "#у нас файл с расширение dat и там разделение :: а не запятая, поэтому мы пишем такие параметры\n",
    "movies_df = pd.read_csv('ml-1m/movies.dat', sep='::', header=None, engine='python') \n",
    "movies_df.head() #выводим первые зачения наших данных "
   ]
  },
  {
   "cell_type": "code",
   "execution_count": 5,
   "metadata": {
    "scrolled": false
   },
   "outputs": [
    {
     "data": {
      "text/html": [
       "<div>\n",
       "<style scoped>\n",
       "    .dataframe tbody tr th:only-of-type {\n",
       "        vertical-align: middle;\n",
       "    }\n",
       "\n",
       "    .dataframe tbody tr th {\n",
       "        vertical-align: top;\n",
       "    }\n",
       "\n",
       "    .dataframe thead th {\n",
       "        text-align: right;\n",
       "    }\n",
       "</style>\n",
       "<table border=\"1\" class=\"dataframe\">\n",
       "  <thead>\n",
       "    <tr style=\"text-align: right;\">\n",
       "      <th></th>\n",
       "      <th>0</th>\n",
       "      <th>1</th>\n",
       "      <th>2</th>\n",
       "      <th>3</th>\n",
       "    </tr>\n",
       "  </thead>\n",
       "  <tbody>\n",
       "    <tr>\n",
       "      <td>0</td>\n",
       "      <td>1</td>\n",
       "      <td>1193</td>\n",
       "      <td>5</td>\n",
       "      <td>978300760</td>\n",
       "    </tr>\n",
       "    <tr>\n",
       "      <td>1</td>\n",
       "      <td>1</td>\n",
       "      <td>661</td>\n",
       "      <td>3</td>\n",
       "      <td>978302109</td>\n",
       "    </tr>\n",
       "    <tr>\n",
       "      <td>2</td>\n",
       "      <td>1</td>\n",
       "      <td>914</td>\n",
       "      <td>3</td>\n",
       "      <td>978301968</td>\n",
       "    </tr>\n",
       "    <tr>\n",
       "      <td>3</td>\n",
       "      <td>1</td>\n",
       "      <td>3408</td>\n",
       "      <td>4</td>\n",
       "      <td>978300275</td>\n",
       "    </tr>\n",
       "    <tr>\n",
       "      <td>4</td>\n",
       "      <td>1</td>\n",
       "      <td>2355</td>\n",
       "      <td>5</td>\n",
       "      <td>978824291</td>\n",
       "    </tr>\n",
       "  </tbody>\n",
       "</table>\n",
       "</div>"
      ],
      "text/plain": [
       "   0     1  2          3\n",
       "0  1  1193  5  978300760\n",
       "1  1   661  3  978302109\n",
       "2  1   914  3  978301968\n",
       "3  1  3408  4  978300275\n",
       "4  1  2355  5  978824291"
      ]
     },
     "execution_count": 5,
     "metadata": {},
     "output_type": "execute_result"
    }
   ],
   "source": [
    "#импоритруем наши данные для ОЦЕНОК фильмов\n",
    "ratings_df = pd.read_csv('ml-1m/ratings.dat', sep='::', header=None, engine='python')\n",
    "ratings_df.head() #выводим первые зачения наших данных "
   ]
  },
  {
   "cell_type": "markdown",
   "metadata": {},
   "source": [
    "Поменяем названия столбцов на более понятные: "
   ]
  },
  {
   "cell_type": "code",
   "execution_count": 6,
   "metadata": {},
   "outputs": [
    {
     "data": {
      "text/html": [
       "<div>\n",
       "<style scoped>\n",
       "    .dataframe tbody tr th:only-of-type {\n",
       "        vertical-align: middle;\n",
       "    }\n",
       "\n",
       "    .dataframe tbody tr th {\n",
       "        vertical-align: top;\n",
       "    }\n",
       "\n",
       "    .dataframe thead th {\n",
       "        text-align: right;\n",
       "    }\n",
       "</style>\n",
       "<table border=\"1\" class=\"dataframe\">\n",
       "  <thead>\n",
       "    <tr style=\"text-align: right;\">\n",
       "      <th></th>\n",
       "      <th>MovieID</th>\n",
       "      <th>Title</th>\n",
       "      <th>Genres</th>\n",
       "    </tr>\n",
       "  </thead>\n",
       "  <tbody>\n",
       "    <tr>\n",
       "      <td>0</td>\n",
       "      <td>1</td>\n",
       "      <td>Toy Story (1995)</td>\n",
       "      <td>Animation|Children's|Comedy</td>\n",
       "    </tr>\n",
       "    <tr>\n",
       "      <td>1</td>\n",
       "      <td>2</td>\n",
       "      <td>Jumanji (1995)</td>\n",
       "      <td>Adventure|Children's|Fantasy</td>\n",
       "    </tr>\n",
       "    <tr>\n",
       "      <td>2</td>\n",
       "      <td>3</td>\n",
       "      <td>Grumpier Old Men (1995)</td>\n",
       "      <td>Comedy|Romance</td>\n",
       "    </tr>\n",
       "    <tr>\n",
       "      <td>3</td>\n",
       "      <td>4</td>\n",
       "      <td>Waiting to Exhale (1995)</td>\n",
       "      <td>Comedy|Drama</td>\n",
       "    </tr>\n",
       "    <tr>\n",
       "      <td>4</td>\n",
       "      <td>5</td>\n",
       "      <td>Father of the Bride Part II (1995)</td>\n",
       "      <td>Comedy</td>\n",
       "    </tr>\n",
       "  </tbody>\n",
       "</table>\n",
       "</div>"
      ],
      "text/plain": [
       "   MovieID                               Title                        Genres\n",
       "0        1                    Toy Story (1995)   Animation|Children's|Comedy\n",
       "1        2                      Jumanji (1995)  Adventure|Children's|Fantasy\n",
       "2        3             Grumpier Old Men (1995)                Comedy|Romance\n",
       "3        4            Waiting to Exhale (1995)                  Comedy|Drama\n",
       "4        5  Father of the Bride Part II (1995)                        Comedy"
      ]
     },
     "execution_count": 6,
     "metadata": {},
     "output_type": "execute_result"
    }
   ],
   "source": [
    "movies_df.columns = ['MovieID', 'Title', 'Genres']\n",
    "movies_df.head()"
   ]
  },
  {
   "cell_type": "code",
   "execution_count": 7,
   "metadata": {
    "scrolled": true
   },
   "outputs": [
    {
     "data": {
      "text/html": [
       "<div>\n",
       "<style scoped>\n",
       "    .dataframe tbody tr th:only-of-type {\n",
       "        vertical-align: middle;\n",
       "    }\n",
       "\n",
       "    .dataframe tbody tr th {\n",
       "        vertical-align: top;\n",
       "    }\n",
       "\n",
       "    .dataframe thead th {\n",
       "        text-align: right;\n",
       "    }\n",
       "</style>\n",
       "<table border=\"1\" class=\"dataframe\">\n",
       "  <thead>\n",
       "    <tr style=\"text-align: right;\">\n",
       "      <th></th>\n",
       "      <th>UserID</th>\n",
       "      <th>MovieID</th>\n",
       "      <th>Rating</th>\n",
       "      <th>Timestamp</th>\n",
       "    </tr>\n",
       "  </thead>\n",
       "  <tbody>\n",
       "    <tr>\n",
       "      <td>0</td>\n",
       "      <td>1</td>\n",
       "      <td>1193</td>\n",
       "      <td>5</td>\n",
       "      <td>978300760</td>\n",
       "    </tr>\n",
       "    <tr>\n",
       "      <td>1</td>\n",
       "      <td>1</td>\n",
       "      <td>661</td>\n",
       "      <td>3</td>\n",
       "      <td>978302109</td>\n",
       "    </tr>\n",
       "    <tr>\n",
       "      <td>2</td>\n",
       "      <td>1</td>\n",
       "      <td>914</td>\n",
       "      <td>3</td>\n",
       "      <td>978301968</td>\n",
       "    </tr>\n",
       "    <tr>\n",
       "      <td>3</td>\n",
       "      <td>1</td>\n",
       "      <td>3408</td>\n",
       "      <td>4</td>\n",
       "      <td>978300275</td>\n",
       "    </tr>\n",
       "    <tr>\n",
       "      <td>4</td>\n",
       "      <td>1</td>\n",
       "      <td>2355</td>\n",
       "      <td>5</td>\n",
       "      <td>978824291</td>\n",
       "    </tr>\n",
       "  </tbody>\n",
       "</table>\n",
       "</div>"
      ],
      "text/plain": [
       "   UserID  MovieID  Rating  Timestamp\n",
       "0       1     1193       5  978300760\n",
       "1       1      661       3  978302109\n",
       "2       1      914       3  978301968\n",
       "3       1     3408       4  978300275\n",
       "4       1     2355       5  978824291"
      ]
     },
     "execution_count": 7,
     "metadata": {},
     "output_type": "execute_result"
    }
   ],
   "source": [
    "ratings_df.columns = ['UserID', 'MovieID', 'Rating', 'Timestamp']\n",
    "ratings_df.head()"
   ]
  },
  {
   "cell_type": "markdown",
   "metadata": {},
   "source": [
    "<h3>Форматирование данных</h3>"
   ]
  },
  {
   "cell_type": "code",
   "execution_count": 9,
   "metadata": {},
   "outputs": [
    {
     "data": {
      "text/html": [
       "<div>\n",
       "<style scoped>\n",
       "    .dataframe tbody tr th:only-of-type {\n",
       "        vertical-align: middle;\n",
       "    }\n",
       "\n",
       "    .dataframe tbody tr th {\n",
       "        vertical-align: top;\n",
       "    }\n",
       "\n",
       "    .dataframe thead th {\n",
       "        text-align: right;\n",
       "    }\n",
       "</style>\n",
       "<table border=\"1\" class=\"dataframe\">\n",
       "  <thead>\n",
       "    <tr style=\"text-align: right;\">\n",
       "      <th>MovieID</th>\n",
       "      <th>1</th>\n",
       "      <th>2</th>\n",
       "      <th>3</th>\n",
       "      <th>4</th>\n",
       "      <th>5</th>\n",
       "      <th>6</th>\n",
       "      <th>7</th>\n",
       "      <th>8</th>\n",
       "      <th>9</th>\n",
       "      <th>10</th>\n",
       "      <th>...</th>\n",
       "      <th>3943</th>\n",
       "      <th>3944</th>\n",
       "      <th>3945</th>\n",
       "      <th>3946</th>\n",
       "      <th>3947</th>\n",
       "      <th>3948</th>\n",
       "      <th>3949</th>\n",
       "      <th>3950</th>\n",
       "      <th>3951</th>\n",
       "      <th>3952</th>\n",
       "    </tr>\n",
       "    <tr>\n",
       "      <th>UserID</th>\n",
       "      <th></th>\n",
       "      <th></th>\n",
       "      <th></th>\n",
       "      <th></th>\n",
       "      <th></th>\n",
       "      <th></th>\n",
       "      <th></th>\n",
       "      <th></th>\n",
       "      <th></th>\n",
       "      <th></th>\n",
       "      <th></th>\n",
       "      <th></th>\n",
       "      <th></th>\n",
       "      <th></th>\n",
       "      <th></th>\n",
       "      <th></th>\n",
       "      <th></th>\n",
       "      <th></th>\n",
       "      <th></th>\n",
       "      <th></th>\n",
       "      <th></th>\n",
       "    </tr>\n",
       "  </thead>\n",
       "  <tbody>\n",
       "    <tr>\n",
       "      <td>1</td>\n",
       "      <td>5.0</td>\n",
       "      <td>NaN</td>\n",
       "      <td>NaN</td>\n",
       "      <td>NaN</td>\n",
       "      <td>NaN</td>\n",
       "      <td>NaN</td>\n",
       "      <td>NaN</td>\n",
       "      <td>NaN</td>\n",
       "      <td>NaN</td>\n",
       "      <td>NaN</td>\n",
       "      <td>...</td>\n",
       "      <td>NaN</td>\n",
       "      <td>NaN</td>\n",
       "      <td>NaN</td>\n",
       "      <td>NaN</td>\n",
       "      <td>NaN</td>\n",
       "      <td>NaN</td>\n",
       "      <td>NaN</td>\n",
       "      <td>NaN</td>\n",
       "      <td>NaN</td>\n",
       "      <td>NaN</td>\n",
       "    </tr>\n",
       "    <tr>\n",
       "      <td>2</td>\n",
       "      <td>NaN</td>\n",
       "      <td>NaN</td>\n",
       "      <td>NaN</td>\n",
       "      <td>NaN</td>\n",
       "      <td>NaN</td>\n",
       "      <td>NaN</td>\n",
       "      <td>NaN</td>\n",
       "      <td>NaN</td>\n",
       "      <td>NaN</td>\n",
       "      <td>NaN</td>\n",
       "      <td>...</td>\n",
       "      <td>NaN</td>\n",
       "      <td>NaN</td>\n",
       "      <td>NaN</td>\n",
       "      <td>NaN</td>\n",
       "      <td>NaN</td>\n",
       "      <td>NaN</td>\n",
       "      <td>NaN</td>\n",
       "      <td>NaN</td>\n",
       "      <td>NaN</td>\n",
       "      <td>NaN</td>\n",
       "    </tr>\n",
       "    <tr>\n",
       "      <td>3</td>\n",
       "      <td>NaN</td>\n",
       "      <td>NaN</td>\n",
       "      <td>NaN</td>\n",
       "      <td>NaN</td>\n",
       "      <td>NaN</td>\n",
       "      <td>NaN</td>\n",
       "      <td>NaN</td>\n",
       "      <td>NaN</td>\n",
       "      <td>NaN</td>\n",
       "      <td>NaN</td>\n",
       "      <td>...</td>\n",
       "      <td>NaN</td>\n",
       "      <td>NaN</td>\n",
       "      <td>NaN</td>\n",
       "      <td>NaN</td>\n",
       "      <td>NaN</td>\n",
       "      <td>NaN</td>\n",
       "      <td>NaN</td>\n",
       "      <td>NaN</td>\n",
       "      <td>NaN</td>\n",
       "      <td>NaN</td>\n",
       "    </tr>\n",
       "    <tr>\n",
       "      <td>4</td>\n",
       "      <td>NaN</td>\n",
       "      <td>NaN</td>\n",
       "      <td>NaN</td>\n",
       "      <td>NaN</td>\n",
       "      <td>NaN</td>\n",
       "      <td>NaN</td>\n",
       "      <td>NaN</td>\n",
       "      <td>NaN</td>\n",
       "      <td>NaN</td>\n",
       "      <td>NaN</td>\n",
       "      <td>...</td>\n",
       "      <td>NaN</td>\n",
       "      <td>NaN</td>\n",
       "      <td>NaN</td>\n",
       "      <td>NaN</td>\n",
       "      <td>NaN</td>\n",
       "      <td>NaN</td>\n",
       "      <td>NaN</td>\n",
       "      <td>NaN</td>\n",
       "      <td>NaN</td>\n",
       "      <td>NaN</td>\n",
       "    </tr>\n",
       "    <tr>\n",
       "      <td>5</td>\n",
       "      <td>NaN</td>\n",
       "      <td>NaN</td>\n",
       "      <td>NaN</td>\n",
       "      <td>NaN</td>\n",
       "      <td>NaN</td>\n",
       "      <td>2.0</td>\n",
       "      <td>NaN</td>\n",
       "      <td>NaN</td>\n",
       "      <td>NaN</td>\n",
       "      <td>NaN</td>\n",
       "      <td>...</td>\n",
       "      <td>NaN</td>\n",
       "      <td>NaN</td>\n",
       "      <td>NaN</td>\n",
       "      <td>NaN</td>\n",
       "      <td>NaN</td>\n",
       "      <td>NaN</td>\n",
       "      <td>NaN</td>\n",
       "      <td>NaN</td>\n",
       "      <td>NaN</td>\n",
       "      <td>NaN</td>\n",
       "    </tr>\n",
       "  </tbody>\n",
       "</table>\n",
       "<p>5 rows × 3706 columns</p>\n",
       "</div>"
      ],
      "text/plain": [
       "MovieID  1     2     3     4     5     6     7     8     9     10    ...  \\\n",
       "UserID                                                               ...   \n",
       "1         5.0   NaN   NaN   NaN   NaN   NaN   NaN   NaN   NaN   NaN  ...   \n",
       "2         NaN   NaN   NaN   NaN   NaN   NaN   NaN   NaN   NaN   NaN  ...   \n",
       "3         NaN   NaN   NaN   NaN   NaN   NaN   NaN   NaN   NaN   NaN  ...   \n",
       "4         NaN   NaN   NaN   NaN   NaN   NaN   NaN   NaN   NaN   NaN  ...   \n",
       "5         NaN   NaN   NaN   NaN   NaN   2.0   NaN   NaN   NaN   NaN  ...   \n",
       "\n",
       "MovieID  3943  3944  3945  3946  3947  3948  3949  3950  3951  3952  \n",
       "UserID                                                               \n",
       "1         NaN   NaN   NaN   NaN   NaN   NaN   NaN   NaN   NaN   NaN  \n",
       "2         NaN   NaN   NaN   NaN   NaN   NaN   NaN   NaN   NaN   NaN  \n",
       "3         NaN   NaN   NaN   NaN   NaN   NaN   NaN   NaN   NaN   NaN  \n",
       "4         NaN   NaN   NaN   NaN   NaN   NaN   NaN   NaN   NaN   NaN  \n",
       "5         NaN   NaN   NaN   NaN   NaN   NaN   NaN   NaN   NaN   NaN  \n",
       "\n",
       "[5 rows x 3706 columns]"
      ]
     },
     "execution_count": 9,
     "metadata": {},
     "output_type": "execute_result"
    }
   ],
   "source": [
    "#создаём датафрейм со сводными значениями оценок каждого пользователя для каждого фильма \n",
    "user_rating_df = ratings_df.pivot(index='UserID', columns='MovieID', values='Rating') \n",
    "user_rating_df.head() #выводим первые значения "
   ]
  },
  {
   "cell_type": "markdown",
   "metadata": {},
   "source": [
    "Мы видим, что у нас много пустых значений, поэтому заполняем их нулями. Ноль будет значит что пользователь не смотрел фильм.\n",
    "Затем нормализуем. \n",
    "Нормализуем за тем чтобы было легче сравнивать зачения и нашей нейронной сети было лечге работать с ними. "
   ]
  },
  {
   "cell_type": "code",
   "execution_count": 26,
   "metadata": {},
   "outputs": [
    {
     "data": {
      "text/plain": [
       "array([[1., 0., 0., ..., 0., 0., 0.],\n",
       "       [0., 0., 0., ..., 0., 0., 0.],\n",
       "       [0., 0., 0., ..., 0., 0., 0.],\n",
       "       [0., 0., 0., ..., 0., 0., 0.],\n",
       "       [0., 0., 0., ..., 0., 0., 0.]])"
      ]
     },
     "execution_count": 26,
     "metadata": {},
     "output_type": "execute_result"
    }
   ],
   "source": [
    "norm_user_rating_df = user_rating_df.fillna(0) / 5.0 #заполняем нулями и делим на 5 \n",
    "trX = norm_user_rating_df.values #возвращем массив значений датафрейма \n",
    "trX[0:5] #выводим первые 5 строчек "
   ]
  },
  {
   "cell_type": "markdown",
   "metadata": {},
   "source": [
    "<a id=\"ref4\"></a>\n",
    "<h2>Создание модели</h2>"
   ]
  },
  {
   "cell_type": "markdown",
   "metadata": {},
   "source": [
    "### Сначала задаём параметры модели и архитектуру слоёв:"
   ]
  },
  {
   "cell_type": "code",
   "execution_count": 11,
   "metadata": {},
   "outputs": [],
   "source": [
    "hiddenUnits = 20 #определяем количество нейронов в скрытых уровнях \n",
    "visibleUnits =  len(user_rating_df.columns) #кол-во видимых нейронов равняется количеству фильмов \n",
    "\n",
    "#создаём переменные для хранения нейронов смещения \n",
    "vb = tf.Variable(tf.zeros([visibleUnits]), tf.float32) #для видимых слоёв (количество уникальных фильмов)\n",
    "hb = tf.Variable(tf.zeros([hiddenUnits]), tf.float32) #для скрытых слоёв (количество признаков которые мы собираемся выучить)\n",
    "W = tf.Variable(tf.zeros([visibleUnits, hiddenUnits]), tf.float32) #веса, которые соединяют скрытый слой с видимым слоем"
   ]
  },
  {
   "cell_type": "code",
   "execution_count": 28,
   "metadata": {},
   "outputs": [
    {
     "data": {
      "text/plain": [
       "<tf.Tensor: shape=(1, 20), dtype=float32, numpy=\n",
       "array([[0., 0., 0., 0., 0., 0., 0., 0., 0., 0., 0., 0., 0., 0., 0., 0.,\n",
       "        0., 0., 0., 0.]], dtype=float32)>"
      ]
     },
     "execution_count": 28,
     "metadata": {},
     "output_type": "execute_result"
    }
   ],
   "source": [
    "v0 = tf.zeros([visibleUnits], tf.float32) #переменная исходного вектора \n",
    "tf.matmul([v0], W) #проверяем работает ли умножение матриц для нейронов видимых слоёв и весов "
   ]
  },
  {
   "cell_type": "markdown",
   "metadata": {},
   "source": [
    "Затем мы переходим к созданию видимых и скрытых элементов слоя и настройке их функций активации. В этом случае мы будем использовать функции <code> tf.sigmoid </code> и <code> tf.relu </code> в качестве нелинейных активаций, поскольку они обычно используются в RBM."
   ]
  },
  {
   "cell_type": "code",
   "execution_count": 13,
   "metadata": {},
   "outputs": [
    {
     "name": "stdout",
     "output_type": "stream",
     "text": [
      "first 15 hidden states:  tf.Tensor([1. 1. 0. 0. 1. 1. 1. 1. 0. 0. 1. 0. 1. 0. 1.], shape=(15,), dtype=float32)\n",
      "hidden state shape:  (1, 20)\n",
      "v0 state shape:   (3706,)\n",
      "v1 state shape:   (3706,)\n"
     ]
    }
   ],
   "source": [
    "#определение функции, возвращающей только сгенерированные скрытые состояния\n",
    "def hidden_layer(v0_state, W, hb):\n",
    "    h0_prob = tf.nn.sigmoid(tf.matmul([v0_state], W) + hb)  # вероятности скрытых элементов\n",
    "    h0_state = tf.nn.relu(tf.sign(h0_prob - tf.random.uniform(tf.shape(h0_prob)))) #определяем сгенерированное скрытое сост-е\n",
    "    return h0_state\n",
    "\n",
    "#можно не говорить \n",
    "h0 = hidden_layer(v0, W, hb) #вызываем функцию для нулей и определяем параметр h0\n",
    "print(\"first 15 hidden states: \", h0[0][0:15]) #выводим первые 15 скрытых состояний для нулей\n",
    "\n",
    "#определяем функция вывода \n",
    "def reconstructed_output(h0_state, W, vb):\n",
    "    v1_prob = tf.nn.sigmoid(tf.matmul(h0_state, tf.transpose(W)) + vb) # вероятности видимых элементов\n",
    "    v1_state = tf.nn.relu(tf.sign(v1_prob - tf.random.uniform(tf.shape(v1_prob))))  #определяем сгенерированное видимое сост-е\n",
    "    return v1_state[0]\n",
    "\n",
    "#можно не говорить\n",
    "v1 = reconstructed_output(h0, W, vb)  #вызываем функцию и определяем параметр h0\n",
    "print(\"hidden state shape: \", h0.shape) #выводим размер скрытого состояния \n",
    "#лучше не говорить :()\n",
    "print(\"v0 state shape:  \", v0.shape) #размер состояния для исходного вектора \n",
    "print(\"v1 state shape:  \", v1.shape) #размер состояния для видимого слоя  "
   ]
  },
  {
   "cell_type": "markdown",
   "metadata": {},
   "source": [
    "Задаём функцию ошибок MAE. MAE - Mean Absolute Error, Средняя абсолютная ошибка."
   ]
  },
  {
   "cell_type": "code",
   "execution_count": 24,
   "metadata": {},
   "outputs": [],
   "source": [
    "def error(v0_state, v1_state):\n",
    "    return tf.reduce_mean(tf.square(v0_state - v1_state)) #использум встроенную функцию сокращённого среднего для быстроты выч-я"
   ]
  },
  {
   "cell_type": "markdown",
   "metadata": {},
   "source": [
    "### Дальше происходит непосредственно обучение модели: "
   ]
  },
  {
   "cell_type": "code",
   "execution_count": 15,
   "metadata": {
    "scrolled": false
   },
   "outputs": [
    {
     "name": "stdout",
     "output_type": "stream",
     "text": [
      "Epoch: 1 batch #: 0  of 12 sample #: 499 reconstruction error: 0.044047\n",
      "Epoch: 1 batch #: 1  of 12 sample #: 499 reconstruction error: 0.030772\n",
      "Epoch: 1 batch #: 2  of 12 sample #: 499 reconstruction error: 0.039126\n",
      "Epoch: 1 batch #: 3  of 12 sample #: 499 reconstruction error: 0.031193\n",
      "Epoch: 1 batch #: 4  of 12 sample #: 499 reconstruction error: 0.047480\n",
      "Epoch: 1 batch #: 5  of 12 sample #: 499 reconstruction error: 0.032078\n",
      "Epoch: 1 batch #: 6  of 12 sample #: 499 reconstruction error: 0.025958\n",
      "Epoch: 1 batch #: 7  of 12 sample #: 499 reconstruction error: 0.026875\n",
      "Epoch: 1 batch #: 8  of 12 sample #: 499 reconstruction error: 0.003270\n",
      "Epoch: 1 batch #: 9  of 12 sample #: 499 reconstruction error: 0.110901\n",
      "Epoch: 1 batch #: 10  of 12 sample #: 499 reconstruction error: 0.018230\n",
      "Epoch: 1 batch #: 11  of 12 sample #: 499 reconstruction error: 0.098489\n",
      "Epoch: 1 batch #: 12  of 12 sample #: 39 reconstruction error: 0.073211\n",
      "Epoch: 2 batch #: 0  of 12 sample #: 499 reconstruction error: 0.027858\n",
      "Epoch: 2 batch #: 1  of 12 sample #: 499 reconstruction error: 0.032067\n",
      "Epoch: 2 batch #: 2  of 12 sample #: 499 reconstruction error: 0.032002\n",
      "Epoch: 2 batch #: 3  of 12 sample #: 499 reconstruction error: 0.026282\n",
      "Epoch: 2 batch #: 4  of 12 sample #: 499 reconstruction error: 0.044727\n",
      "Epoch: 2 batch #: 5  of 12 sample #: 499 reconstruction error: 0.027221\n",
      "Epoch: 2 batch #: 6  of 12 sample #: 499 reconstruction error: 0.023152\n",
      "Epoch: 2 batch #: 7  of 12 sample #: 499 reconstruction error: 0.033405\n",
      "Epoch: 2 batch #: 8  of 12 sample #: 499 reconstruction error: 0.004997\n",
      "Epoch: 2 batch #: 9  of 12 sample #: 499 reconstruction error: 0.112628\n",
      "Epoch: 2 batch #: 10  of 12 sample #: 499 reconstruction error: 0.020443\n",
      "Epoch: 2 batch #: 11  of 12 sample #: 499 reconstruction error: 0.099244\n",
      "Epoch: 2 batch #: 12  of 12 sample #: 39 reconstruction error: 0.072186\n",
      "Epoch: 3 batch #: 0  of 12 sample #: 499 reconstruction error: 0.028019\n",
      "Epoch: 3 batch #: 1  of 12 sample #: 499 reconstruction error: 0.032876\n",
      "Epoch: 3 batch #: 2  of 12 sample #: 499 reconstruction error: 0.034053\n",
      "Epoch: 3 batch #: 3  of 12 sample #: 499 reconstruction error: 0.024987\n",
      "Epoch: 3 batch #: 4  of 12 sample #: 499 reconstruction error: 0.042839\n",
      "Epoch: 3 batch #: 5  of 12 sample #: 499 reconstruction error: 0.029164\n",
      "Epoch: 3 batch #: 6  of 12 sample #: 499 reconstruction error: 0.023368\n",
      "Epoch: 3 batch #: 7  of 12 sample #: 499 reconstruction error: 0.024069\n",
      "Epoch: 3 batch #: 8  of 12 sample #: 499 reconstruction error: 0.006886\n",
      "Epoch: 3 batch #: 9  of 12 sample #: 499 reconstruction error: 0.102698\n",
      "Epoch: 3 batch #: 10  of 12 sample #: 499 reconstruction error: 0.018284\n",
      "Epoch: 3 batch #: 11  of 12 sample #: 499 reconstruction error: 0.102321\n",
      "Epoch: 3 batch #: 12  of 12 sample #: 39 reconstruction error: 0.070729\n",
      "Epoch: 4 batch #: 0  of 12 sample #: 499 reconstruction error: 0.029045\n",
      "Epoch: 4 batch #: 1  of 12 sample #: 499 reconstruction error: 0.027696\n",
      "Epoch: 4 batch #: 2  of 12 sample #: 499 reconstruction error: 0.039342\n",
      "Epoch: 4 batch #: 3  of 12 sample #: 499 reconstruction error: 0.026929\n",
      "Epoch: 4 batch #: 4  of 12 sample #: 499 reconstruction error: 0.039817\n",
      "Epoch: 4 batch #: 5  of 12 sample #: 499 reconstruction error: 0.026789\n",
      "Epoch: 4 batch #: 6  of 12 sample #: 499 reconstruction error: 0.023853\n",
      "Epoch: 4 batch #: 7  of 12 sample #: 499 reconstruction error: 0.016244\n",
      "Epoch: 4 batch #: 8  of 12 sample #: 499 reconstruction error: 0.006616\n",
      "Epoch: 4 batch #: 9  of 12 sample #: 499 reconstruction error: 0.113168\n",
      "Epoch: 4 batch #: 10  of 12 sample #: 499 reconstruction error: 0.020820\n",
      "Epoch: 4 batch #: 11  of 12 sample #: 499 reconstruction error: 0.099730\n",
      "Epoch: 4 batch #: 12  of 12 sample #: 39 reconstruction error: 0.070783\n",
      "Epoch: 5 batch #: 0  of 12 sample #: 499 reconstruction error: 0.031257\n",
      "Epoch: 5 batch #: 1  of 12 sample #: 499 reconstruction error: 0.025429\n",
      "Epoch: 5 batch #: 2  of 12 sample #: 499 reconstruction error: 0.033999\n",
      "Epoch: 5 batch #: 3  of 12 sample #: 499 reconstruction error: 0.023152\n",
      "Epoch: 5 batch #: 4  of 12 sample #: 499 reconstruction error: 0.044889\n",
      "Epoch: 5 batch #: 5  of 12 sample #: 499 reconstruction error: 0.028354\n",
      "Epoch: 5 batch #: 6  of 12 sample #: 499 reconstruction error: 0.018079\n",
      "Epoch: 5 batch #: 7  of 12 sample #: 499 reconstruction error: 0.016838\n",
      "Epoch: 5 batch #: 8  of 12 sample #: 499 reconstruction error: 0.007426\n",
      "Epoch: 5 batch #: 9  of 12 sample #: 499 reconstruction error: 0.109876\n",
      "Epoch: 5 batch #: 10  of 12 sample #: 499 reconstruction error: 0.018500\n",
      "Epoch: 5 batch #: 11  of 12 sample #: 499 reconstruction error: 0.107987\n",
      "Epoch: 5 batch #: 12  of 12 sample #: 39 reconstruction error: 0.062742\n"
     ]
    },
    {
     "data": {
      "image/png": "[encoded data removed]",
      "text/plain": [
       "<Figure size 432x288 with 1 Axes>"
      ]
     },
     "metadata": {
      "needs_background": "light"
     },
     "output_type": "display_data"
    }
   ],
   "source": [
    "epochs = 5 #задаём 5 эпох, то есть данные будут показаны нашей модели 5 раз \n",
    "batchsize = 500 #задаём размер пакета 500\n",
    "errors = [] #пустой список для ошибок \n",
    "weights = [] #пустой список для весов \n",
    "K=1\n",
    "alpha = 0.1 #параметр для расчёта весов \n",
    "\n",
    "train_ds = \\\n",
    "    tf.data.Dataset.from_tensor_slices((np.float32(trX))).batch(batchsize) #создаём датасет и формируем пакет \n",
    "\n",
    "\n",
    "v0_state=v0 #состояние для исходного вектора \n",
    "for epoch in range(epochs): #повторяем цикл 5 раз \n",
    "    batch_number = 0 #номер пакета\n",
    "    for batch_x in train_ds:\n",
    "\n",
    "        for i_sample in range(len(batch_x)):           \n",
    "            for k in range(K): \n",
    "                v0_state = batch_x[i_sample] #исходный вектор состояний видимого слоя \n",
    "                h0_state = hidden_layer(v0_state, W, hb) #нулевой вектор состояний скрытого слоя\n",
    "                v1_state = reconstructed_output(h0_state, W, vb) #обновлённый вектор видимого слоя \n",
    "                h1_state = hidden_layer(v1_state, W, hb) #обновлённый вектор скрытого слоя \n",
    "\n",
    "                #Матрица обновлений весов с помощью констрастной дивергенции:\n",
    "                delta_W = tf.matmul(tf.transpose([v0_state]), h0_state) - tf.matmul(tf.transpose([v1_state]), h1_state)\n",
    "                #новые веса расчитываем с помощью матрицы обновления с градиентным подьёмом \n",
    "                W = W + alpha * delta_W\n",
    "\n",
    "                vb = vb + alpha * tf.reduce_mean(v0_state - v1_state, 0) #нейроны смещения для видимых слоёв \n",
    "                hb = hb + alpha * tf.reduce_mean(h0_state - h1_state, 0) #нейроны смещения для скрытых слоёв\n",
    "\n",
    "                v0_state = v1_state #от исходного вектора состояний переходим к новому \n",
    "\n",
    "            #выводим значения ошибки для каждого пакета каждой эпохи \n",
    "            if i_sample == len(batch_x)-1:\n",
    "                err = error(batch_x[i_sample], v1_state) #вызываем функцию ошибок \n",
    "                errors.append(err) #добавляем ошибку в список \n",
    "                weights.append(W) #добавляем вес в список \n",
    "                print ( 'Epoch: %d' % (epoch + 1), #эпохи \n",
    "                       \"batch #: %i \" % batch_number, \"of %i\" % (len(trX)/batchsize), #номер пакета \n",
    "                       \"sample #: %i\" % i_sample, #выборка\n",
    "                       'reconstruction error: %f' % err) #ошибка \n",
    "        batch_number += 1 #обновление номера пакета \n",
    "\n",
    "\n",
    "\n",
    "\n",
    "plt.plot(errors) #выводим график функции ошибок \n",
    "plt.ylabel('Error') #по игреку ошибки \n",
    "plt.xlabel('Epoch') #по иксу эпохи\n",
    "plt.show()"
   ]
  },
  {
   "cell_type": "markdown",
   "metadata": {},
   "source": [
    "<a id=\"ref5\"></a>\n",
    "<h2>Рекомендация</h2>"
   ]
  },
  {
   "cell_type": "markdown",
   "metadata": {},
   "source": [
    "### Здесь мы просто выбираем рандомного пользователя и делаем подборку из 20 фильмов для него"
   ]
  },
  {
   "cell_type": "markdown",
   "metadata": {},
   "source": [
    "Выеберем <b>User ID</b> одного из наших пользователей:"
   ]
  },
  {
   "cell_type": "code",
   "execution_count": 16,
   "metadata": {},
   "outputs": [],
   "source": [
    "#выбираем пользователя с айди 215\n",
    "mock_user_id = 215"
   ]
  },
  {
   "cell_type": "code",
   "execution_count": 17,
   "metadata": {},
   "outputs": [
    {
     "name": "stdout",
     "output_type": "stream",
     "text": [
      "tf.Tensor([0.8 0.  0.  ... 0.  0.  0. ], shape=(3706,), dtype=float32)\n"
     ]
    },
    {
     "data": {
      "text/plain": [
       "TensorShape([3706])"
      ]
     },
     "execution_count": 17,
     "metadata": {},
     "output_type": "execute_result"
    }
   ],
   "source": [
    "inputUser = trX[mock_user_id-1].reshape(1, -1) #из матрицы исходных данных выбираем значения только для айди 215\n",
    "\n",
    "inputUser = tf.convert_to_tensor(trX[mock_user_id-1],\"float32\") #превращаем в тензор \n",
    "v0 = inputUser #задаём начальное состояние \n",
    "\n",
    "print(v0) #смотрим на начальные значения для нашего пользователя \n",
    "v0.shape"
   ]
  },
  {
   "cell_type": "code",
   "execution_count": 31,
   "metadata": {},
   "outputs": [
    {
     "data": {
      "text/plain": [
       "TensorShape([3706])"
      ]
     },
     "execution_count": 31,
     "metadata": {},
     "output_type": "execute_result"
    }
   ],
   "source": [
    "v0test = tf.zeros([visibleUnits], tf.float32) #задаём тестовый тензор нулей для видимых нейронов\n",
    "v0test.shape #выводим его размер "
   ]
  },
  {
   "cell_type": "code",
   "execution_count": 19,
   "metadata": {},
   "outputs": [
    {
     "name": "stdout",
     "output_type": "stream",
     "text": [
      "tf.Tensor([0.09750101 0.03824031 0.00627953 ... 0.00028762 0.00033563 0.00042245], shape=(3706,), dtype=float32)\n"
     ]
    }
   ],
   "source": [
    "hh0 = tf.nn.sigmoid(tf.matmul([v0], W) + hb) #применяем нейронную сеть для скрытого слоя \n",
    "\n",
    "vv1 = tf.nn.sigmoid(tf.matmul(hh0, tf.transpose(W)) + vb) #применяем нейронную сеть для видимого слоя\n",
    "\n",
    "rec = vv1 #вводим переменную рекомендация равную выводу нейронной сети \n",
    "\n",
    "tf.maximum(rec,1) #обохим значения рекомендации и выводим тензор \n",
    "for i in vv1:\n",
    "    print(i)"
   ]
  },
  {
   "cell_type": "markdown",
   "metadata": {},
   "source": [
    "Теперь мы можем вывести список из 20 рекомендованных фильмов: "
   ]
  },
  {
   "cell_type": "code",
   "execution_count": 20,
   "metadata": {},
   "outputs": [
    {
     "data": {
      "text/html": [
       "<div>\n",
       "<style scoped>\n",
       "    .dataframe tbody tr th:only-of-type {\n",
       "        vertical-align: middle;\n",
       "    }\n",
       "\n",
       "    .dataframe tbody tr th {\n",
       "        vertical-align: top;\n",
       "    }\n",
       "\n",
       "    .dataframe thead th {\n",
       "        text-align: right;\n",
       "    }\n",
       "</style>\n",
       "<table border=\"1\" class=\"dataframe\">\n",
       "  <thead>\n",
       "    <tr style=\"text-align: right;\">\n",
       "      <th></th>\n",
       "      <th>MovieID</th>\n",
       "      <th>Title</th>\n",
       "      <th>Genres</th>\n",
       "      <th>RecommendationScore</th>\n",
       "    </tr>\n",
       "  </thead>\n",
       "  <tbody>\n",
       "    <tr>\n",
       "      <td>1220</td>\n",
       "      <td>1240</td>\n",
       "      <td>Terminator, The (1984)</td>\n",
       "      <td>Action|Sci-Fi|Thriller</td>\n",
       "      <td>0.802012</td>\n",
       "    </tr>\n",
       "    <tr>\n",
       "      <td>1081</td>\n",
       "      <td>1097</td>\n",
       "      <td>E.T. the Extra-Terrestrial (1982)</td>\n",
       "      <td>Children's|Drama|Fantasy|Sci-Fi</td>\n",
       "      <td>0.771726</td>\n",
       "    </tr>\n",
       "    <tr>\n",
       "      <td>2847</td>\n",
       "      <td>2916</td>\n",
       "      <td>Total Recall (1990)</td>\n",
       "      <td>Action|Adventure|Sci-Fi|Thriller</td>\n",
       "      <td>0.723690</td>\n",
       "    </tr>\n",
       "    <tr>\n",
       "      <td>1178</td>\n",
       "      <td>1196</td>\n",
       "      <td>Star Wars: Episode V - The Empire Strikes Back...</td>\n",
       "      <td>Action|Adventure|Drama|Sci-Fi|War</td>\n",
       "      <td>0.711313</td>\n",
       "    </tr>\n",
       "    <tr>\n",
       "      <td>2693</td>\n",
       "      <td>2762</td>\n",
       "      <td>Sixth Sense, The (1999)</td>\n",
       "      <td>Thriller</td>\n",
       "      <td>0.681565</td>\n",
       "    </tr>\n",
       "    <tr>\n",
       "      <td>1543</td>\n",
       "      <td>1584</td>\n",
       "      <td>Contact (1997)</td>\n",
       "      <td>Drama|Sci-Fi</td>\n",
       "      <td>0.653270</td>\n",
       "    </tr>\n",
       "    <tr>\n",
       "      <td>1539</td>\n",
       "      <td>1580</td>\n",
       "      <td>Men in Black (1997)</td>\n",
       "      <td>Action|Adventure|Comedy|Sci-Fi</td>\n",
       "      <td>0.641467</td>\n",
       "    </tr>\n",
       "    <tr>\n",
       "      <td>2559</td>\n",
       "      <td>2628</td>\n",
       "      <td>Star Wars: Episode I - The Phantom Menace (1999)</td>\n",
       "      <td>Action|Adventure|Fantasy|Sci-Fi</td>\n",
       "      <td>0.640604</td>\n",
       "    </tr>\n",
       "    <tr>\n",
       "      <td>476</td>\n",
       "      <td>480</td>\n",
       "      <td>Jurassic Park (1993)</td>\n",
       "      <td>Action|Adventure|Sci-Fi</td>\n",
       "      <td>0.613688</td>\n",
       "    </tr>\n",
       "    <tr>\n",
       "      <td>1192</td>\n",
       "      <td>1210</td>\n",
       "      <td>Star Wars: Episode VI - Return of the Jedi (1983)</td>\n",
       "      <td>Action|Adventure|Romance|Sci-Fi|War</td>\n",
       "      <td>0.603146</td>\n",
       "    </tr>\n",
       "    <tr>\n",
       "      <td>1250</td>\n",
       "      <td>1270</td>\n",
       "      <td>Back to the Future (1985)</td>\n",
       "      <td>Comedy|Sci-Fi</td>\n",
       "      <td>0.582666</td>\n",
       "    </tr>\n",
       "    <tr>\n",
       "      <td>585</td>\n",
       "      <td>589</td>\n",
       "      <td>Terminator 2: Judgment Day (1991)</td>\n",
       "      <td>Action|Sci-Fi|Thriller</td>\n",
       "      <td>0.579537</td>\n",
       "    </tr>\n",
       "    <tr>\n",
       "      <td>1111</td>\n",
       "      <td>1127</td>\n",
       "      <td>Abyss, The (1989)</td>\n",
       "      <td>Action|Adventure|Sci-Fi|Thriller</td>\n",
       "      <td>0.510374</td>\n",
       "    </tr>\n",
       "    <tr>\n",
       "      <td>2502</td>\n",
       "      <td>2571</td>\n",
       "      <td>Matrix, The (1999)</td>\n",
       "      <td>Action|Sci-Fi|Thriller</td>\n",
       "      <td>0.478548</td>\n",
       "    </tr>\n",
       "    <tr>\n",
       "      <td>770</td>\n",
       "      <td>780</td>\n",
       "      <td>Independence Day (ID4) (1996)</td>\n",
       "      <td>Action|Sci-Fi|War</td>\n",
       "      <td>0.388737</td>\n",
       "    </tr>\n",
       "    <tr>\n",
       "      <td>1375</td>\n",
       "      <td>1396</td>\n",
       "      <td>Sneakers (1992)</td>\n",
       "      <td>Crime|Drama|Sci-Fi</td>\n",
       "      <td>0.388162</td>\n",
       "    </tr>\n",
       "    <tr>\n",
       "      <td>2918</td>\n",
       "      <td>2987</td>\n",
       "      <td>Who Framed Roger Rabbit? (1988)</td>\n",
       "      <td>Adventure|Animation|Film-Noir</td>\n",
       "      <td>0.381595</td>\n",
       "    </tr>\n",
       "    <tr>\n",
       "      <td>257</td>\n",
       "      <td>260</td>\n",
       "      <td>Star Wars: Episode IV - A New Hope (1977)</td>\n",
       "      <td>Action|Adventure|Fantasy|Sci-Fi</td>\n",
       "      <td>0.373057</td>\n",
       "    </tr>\n",
       "    <tr>\n",
       "      <td>3402</td>\n",
       "      <td>3471</td>\n",
       "      <td>Close Encounters of the Third Kind (1977)</td>\n",
       "      <td>Drama|Sci-Fi</td>\n",
       "      <td>0.366947</td>\n",
       "    </tr>\n",
       "    <tr>\n",
       "      <td>1491</td>\n",
       "      <td>1527</td>\n",
       "      <td>Fifth Element, The (1997)</td>\n",
       "      <td>Action|Sci-Fi</td>\n",
       "      <td>0.364412</td>\n",
       "    </tr>\n",
       "  </tbody>\n",
       "</table>\n",
       "</div>"
      ],
      "text/plain": [
       "      MovieID                                              Title  \\\n",
       "1220     1240                             Terminator, The (1984)   \n",
       "1081     1097                  E.T. the Extra-Terrestrial (1982)   \n",
       "2847     2916                                Total Recall (1990)   \n",
       "1178     1196  Star Wars: Episode V - The Empire Strikes Back...   \n",
       "2693     2762                            Sixth Sense, The (1999)   \n",
       "1543     1584                                     Contact (1997)   \n",
       "1539     1580                                Men in Black (1997)   \n",
       "2559     2628   Star Wars: Episode I - The Phantom Menace (1999)   \n",
       "476       480                               Jurassic Park (1993)   \n",
       "1192     1210  Star Wars: Episode VI - Return of the Jedi (1983)   \n",
       "1250     1270                          Back to the Future (1985)   \n",
       "585       589                  Terminator 2: Judgment Day (1991)   \n",
       "1111     1127                                  Abyss, The (1989)   \n",
       "2502     2571                                 Matrix, The (1999)   \n",
       "770       780                      Independence Day (ID4) (1996)   \n",
       "1375     1396                                    Sneakers (1992)   \n",
       "2918     2987                    Who Framed Roger Rabbit? (1988)   \n",
       "257       260          Star Wars: Episode IV - A New Hope (1977)   \n",
       "3402     3471          Close Encounters of the Third Kind (1977)   \n",
       "1491     1527                          Fifth Element, The (1997)   \n",
       "\n",
       "                                   Genres  RecommendationScore  \n",
       "1220               Action|Sci-Fi|Thriller             0.802012  \n",
       "1081      Children's|Drama|Fantasy|Sci-Fi             0.771726  \n",
       "2847     Action|Adventure|Sci-Fi|Thriller             0.723690  \n",
       "1178    Action|Adventure|Drama|Sci-Fi|War             0.711313  \n",
       "2693                             Thriller             0.681565  \n",
       "1543                         Drama|Sci-Fi             0.653270  \n",
       "1539       Action|Adventure|Comedy|Sci-Fi             0.641467  \n",
       "2559      Action|Adventure|Fantasy|Sci-Fi             0.640604  \n",
       "476               Action|Adventure|Sci-Fi             0.613688  \n",
       "1192  Action|Adventure|Romance|Sci-Fi|War             0.603146  \n",
       "1250                        Comedy|Sci-Fi             0.582666  \n",
       "585                Action|Sci-Fi|Thriller             0.579537  \n",
       "1111     Action|Adventure|Sci-Fi|Thriller             0.510374  \n",
       "2502               Action|Sci-Fi|Thriller             0.478548  \n",
       "770                     Action|Sci-Fi|War             0.388737  \n",
       "1375                   Crime|Drama|Sci-Fi             0.388162  \n",
       "2918        Adventure|Animation|Film-Noir             0.381595  \n",
       "257       Action|Adventure|Fantasy|Sci-Fi             0.373057  \n",
       "3402                         Drama|Sci-Fi             0.366947  \n",
       "1491                        Action|Sci-Fi             0.364412  "
      ]
     },
     "execution_count": 20,
     "metadata": {},
     "output_type": "execute_result"
    }
   ],
   "source": [
    "scored_movies_df_mock = movies_df[movies_df['MovieID'].isin(user_rating_df.columns)] #берм исходный список фильмов \n",
    "#у которых есть рейтинг\n",
    "scored_movies_df_mock = scored_movies_df_mock.assign(RecommendationScore = rec[0]) #добавляем показатель рекомендации \n",
    "scored_movies_df_mock.sort_values([\"RecommendationScore\"], ascending=False).head(20) #сортируем от более рекомендованных к менее\n",
    "#и выводим первые 20"
   ]
  }
 ],
 "metadata": {
  "kernelspec": {
   "display_name": "Python 3",
   "language": "python",
   "name": "python3"
  },
  "language_info": {
   "codemirror_mode": {
    "name": "ipython",
    "version": 3
   },
   "file_extension": ".py",
   "mimetype": "text/x-python",
   "name": "python",
   "nbconvert_exporter": "python",
   "pygments_lexer": "ipython3",
   "version": "3.7.4"
  },
  "widgets": {
   "state": {},
   "version": "1.1.2"
  }
 },
 "nbformat": 4,
 "nbformat_minor": 2
}
